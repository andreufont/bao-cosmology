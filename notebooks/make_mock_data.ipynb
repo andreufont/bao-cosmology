{
 "cells": [
  {
   "cell_type": "markdown",
   "id": "528ea9ed-a778-42b0-bb71-835003d4647e",
   "metadata": {},
   "source": [
    "# Given a fiducial cosmology, create mock BAO data"
   ]
  },
  {
   "cell_type": "code",
   "execution_count": 1,
   "id": "8feb5e2b-f32d-4e3f-bf20-c91a959e77e5",
   "metadata": {},
   "outputs": [],
   "source": [
    "import sys\n",
    "import numpy as np\n",
    "from pathlib import Path"
   ]
  },
  {
   "cell_type": "code",
   "execution_count": 2,
   "id": "b92a9a9b-79c9-4e18-af9a-6dcd25f61871",
   "metadata": {},
   "outputs": [],
   "source": [
    "# figure out configuration for laptop vs NERSC\n",
    "laptop=False\n",
    "if laptop:\n",
    "    cosmo_dir = '/Users/afont/Desktop/bao-cosmology'\n",
    "else:\n",
    "    cosmo_dir = '/global/cfs/cdirs/desi/users/font/bao-cosmology'\n",
    "sys.path.insert(1, f'{cosmo_dir}/py/')\n",
    "import camb_cosmo\n",
    "import compressed_cmb\n",
    "import desi_bao"
   ]
  },
  {
   "cell_type": "code",
   "execution_count": 3,
   "id": "cc88b4b0-d6b7-4fff-97aa-d0ddaf93af31",
   "metadata": {},
   "outputs": [
    {
     "name": "stdout",
     "output_type": "stream",
     "text": [
      "r_d = 147.28016210646237 Mpc\n",
      "H_0 = 67.24510794134821 km/s/Mpc\n"
     ]
    }
   ],
   "source": [
    "cosmo = compressed_cmb.get_fiducial_cosmology()\n",
    "# get sound horizon in Mpc units\n",
    "rd = camb_cosmo.r_d_Mpc(cosmo)\n",
    "print(f'r_d = {rd} Mpc')\n",
    "H0 = cosmo['pars'].H0\n",
    "print(f'H_0 = {H0} km/s/Mpc')"
   ]
  },
  {
   "cell_type": "code",
   "execution_count": 4,
   "id": "262d08f0-fc64-4cfe-8444-a573a8f2a475",
   "metadata": {},
   "outputs": [],
   "source": [
    "# specify folder to write BAO measurements\n",
    "data_path = Path(cosmo_dir) / 'data'\n",
    "mock_path = data_path / 'mock_bao'\n",
    "mock_path.mkdir(parents=True, exist_ok=True)"
   ]
  },
  {
   "cell_type": "code",
   "execution_count": 5,
   "id": "672e2fee-e3da-4f77-b939-b539adf35b3c",
   "metadata": {},
   "outputs": [],
   "source": [
    "def write_mock_bao(label, z, sig_at, sig_ap, cosmo, mock_path):\n",
    "    mock_data = desi_bao.get_mock_data(z=z, sig_at=sig_at, sig_ap=sig_ap)\n",
    "    desi_bao.write_BAO_files(mock_data, label=label, cosmo=cosmo, output_path=mock_path)"
   ]
  },
  {
   "cell_type": "code",
   "execution_count": 6,
   "id": "24160df2-8146-4275-876c-cbc7e834e3ed",
   "metadata": {},
   "outputs": [],
   "source": [
    "# mock BAO data at z=0.001\n",
    "write_mock_bao(label='mock_z0.001_bao', z=0.001, sig_at=0.01, sig_ap=0.01, \n",
    "               cosmo=cosmo, mock_path=mock_path)\n",
    "write_mock_bao(label='mock_z0.001_at', z=0.001, sig_at=0.01, sig_ap=100.0, \n",
    "               cosmo=cosmo, mock_path=mock_path)\n",
    "write_mock_bao(label='mock_z0.001_ap', z=0.001, sig_at=100.0, sig_ap=0.01, \n",
    "               cosmo=cosmo, mock_path=mock_path)"
   ]
  },
  {
   "cell_type": "code",
   "execution_count": 7,
   "id": "25ed591f-7f8f-476d-a7b0-f0154905bb73",
   "metadata": {},
   "outputs": [],
   "source": [
    "# mock BAO data at z=10 (EdS)\n",
    "write_mock_bao(label='mock_z10.0_bao', z=10.0, sig_at=0.01, sig_ap=0.01, \n",
    "               cosmo=cosmo, mock_path=mock_path)\n",
    "write_mock_bao(label='mock_z10.0_at', z=10.0, sig_at=0.01, sig_ap=100.0, \n",
    "               cosmo=cosmo, mock_path=mock_path)\n",
    "write_mock_bao(label='mock_z10.0_ap', z=10.0, sig_at=100.0, sig_ap=0.01, \n",
    "               cosmo=cosmo, mock_path=mock_path)"
   ]
  },
  {
   "cell_type": "code",
   "execution_count": 8,
   "id": "458f0940-46e1-4308-b638-97813d4a452d",
   "metadata": {},
   "outputs": [],
   "source": [
    "# mock BAO data at z=1100 (CMB)\n",
    "write_mock_bao(label='mock_cmb_bao', z=1100.0, sig_at=0.0003, sig_ap=100.0, \n",
    "               cosmo=cosmo, mock_path=mock_path)"
   ]
  },
  {
   "cell_type": "code",
   "execution_count": null,
   "id": "ef5ad1e1-5be4-4b05-9da6-e8ba5a74353c",
   "metadata": {},
   "outputs": [],
   "source": []
  }
 ],
 "metadata": {
  "kernelspec": {
   "display_name": "cosmodesi-main",
   "language": "python",
   "name": "cosmodesi-main"
  },
  "language_info": {
   "codemirror_mode": {
    "name": "ipython",
    "version": 3
   },
   "file_extension": ".py",
   "mimetype": "text/x-python",
   "name": "python",
   "nbconvert_exporter": "python",
   "pygments_lexer": "ipython3",
   "version": "3.10.13"
  }
 },
 "nbformat": 4,
 "nbformat_minor": 5
}
