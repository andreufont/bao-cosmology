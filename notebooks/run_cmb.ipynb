{
 "cells": [
  {
   "cell_type": "markdown",
   "id": "d2f3db9a-f7ee-4594-94aa-2ae75fe359e6",
   "metadata": {},
   "source": [
    "# Run simple CMB fits, using the CMB parameterization"
   ]
  },
  {
   "cell_type": "code",
   "execution_count": 1,
   "id": "8feb5e2b-f32d-4e3f-bf20-c91a959e77e5",
   "metadata": {},
   "outputs": [],
   "source": [
    "import numpy as np\n",
    "import sys\n",
    "from pathlib import Path"
   ]
  },
  {
   "cell_type": "code",
   "execution_count": 2,
   "id": "58a33ce6-6110-4991-be3b-f6512e6c9c76",
   "metadata": {},
   "outputs": [],
   "source": [
    "# figure out configuration for laptop vs NERSC\n",
    "laptop=True\n",
    "if laptop:\n",
    "    cosmo_dir = '/Users/afont/Desktop/bao-cosmology'\n",
    "else:\n",
    "    cosmo_dir = '/global/cfs/cdirs/desi/users/font/bao-cosmology'\n",
    "sys.path.insert(1, f'{cosmo_dir}/py/')\n",
    "import write_cobaya_configs as write\n",
    "import compressed_cmb as cmb"
   ]
  },
  {
   "cell_type": "code",
   "execution_count": 3,
   "id": "51694689-6f62-4d8a-9bec-da2412bd4307",
   "metadata": {},
   "outputs": [],
   "source": [
    "# set configuration options for these runs\n",
    "cosmo_path = Path(cosmo_dir)\n",
    "# store chains here\n",
    "runs_path = cosmo_path / 'runs'"
   ]
  },
  {
   "cell_type": "code",
   "execution_count": 8,
   "id": "dea567e5-37b0-40f0-8834-af4d251b89f8",
   "metadata": {},
   "outputs": [],
   "source": [
    "# run analysis with CMB only\n",
    "def run_cmb(model, thetastar=True, ombh2=True, ombch2=True, debug=True, submit=True):\n",
    "    label = 'cmb'\n",
    "    if thetastar:\n",
    "        label += '_thetastar'\n",
    "    if ombh2:\n",
    "        label += '_ombh2'\n",
    "    if ombch2:\n",
    "        label += '_ombch2'\n",
    "    print('will use label',label)\n",
    "    cmb_like = cmb.get_compressed_cmb_likelihood(thetastar=thetastar, ombh2=ombh2, ombch2=ombch2)\n",
    "    # do not include the last BAO data, since that is a fake CMB theta_star (for now)\n",
    "    config_file = write.write_cmb_cobaya_config(model=model, run_label=label, \n",
    "                                                cmb_like=cmb_like, runs_path=runs_path)\n",
    "    print(config_file)\n",
    "    if laptop:\n",
    "        updated_info, sampler = write.run_cobaya(config_file, force=True, resume=False)\n",
    "        return updated_info, sampler\n",
    "    else:\n",
    "        command = write.send_cobaya_job(config_file, debug=debug, submit=submit)\n",
    "        print(command)\n",
    "        return command "
   ]
  },
  {
   "cell_type": "code",
   "execution_count": null,
   "id": "11691cfa-e9c3-4d1b-9c57-992446ec2542",
   "metadata": {},
   "outputs": [],
   "source": [
    "results = run_cmb(model='w0wa', thetastar=True, ombh2=True, ombch2=True, debug=True, submit=True)"
   ]
  },
  {
   "cell_type": "code",
   "execution_count": null,
   "id": "0cef51fc-3f7c-4da6-afb4-cc85385a63d9",
   "metadata": {},
   "outputs": [],
   "source": []
  },
  {
   "cell_type": "code",
   "execution_count": null,
   "id": "c33a468f-2b02-4a88-b249-2f572af1ab47",
   "metadata": {},
   "outputs": [],
   "source": []
  },
  {
   "cell_type": "code",
   "execution_count": null,
   "id": "45083d54-8387-41e3-a677-156c442f0096",
   "metadata": {},
   "outputs": [],
   "source": []
  }
 ],
 "metadata": {
  "kernelspec": {
   "display_name": "cosmo",
   "language": "python",
   "name": "cosmo"
  },
  "language_info": {
   "codemirror_mode": {
    "name": "ipython",
    "version": 3
   },
   "file_extension": ".py",
   "mimetype": "text/x-python",
   "name": "python",
   "nbconvert_exporter": "python",
   "pygments_lexer": "ipython3",
   "version": "3.13.5"
  }
 },
 "nbformat": 4,
 "nbformat_minor": 5
}
