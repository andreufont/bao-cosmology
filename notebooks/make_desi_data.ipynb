{
 "cells": [
  {
   "cell_type": "markdown",
   "id": "528ea9ed-a778-42b0-bb71-835003d4647e",
   "metadata": {},
   "source": [
    "# Given a fiducial cosmology, create forecasted DESI BAO data"
   ]
  },
  {
   "cell_type": "code",
   "execution_count": 1,
   "id": "8feb5e2b-f32d-4e3f-bf20-c91a959e77e5",
   "metadata": {},
   "outputs": [],
   "source": [
    "import sys\n",
    "import numpy as np\n",
    "from pathlib import Path"
   ]
  },
  {
   "cell_type": "code",
   "execution_count": 2,
   "id": "1034e426-929d-4651-9880-907c0a9f4301",
   "metadata": {},
   "outputs": [],
   "source": [
    "# figure out configuration for laptop vs NERSC\n",
    "laptop=False\n",
    "if laptop:\n",
    "    cosmo_dir = '/Users/afont/Desktop/bao-cosmology'\n",
    "else:\n",
    "    cosmo_dir = '/global/cfs/cdirs/desi/users/font/bao-cosmology'\n",
    "sys.path.insert(1, f'{cosmo_dir}/py/')\n",
    "import camb_cosmo\n",
    "import compressed_cmb\n",
    "import desi_bao"
   ]
  },
  {
   "cell_type": "code",
   "execution_count": 3,
   "id": "cc88b4b0-d6b7-4fff-97aa-d0ddaf93af31",
   "metadata": {},
   "outputs": [
    {
     "name": "stdout",
     "output_type": "stream",
     "text": [
      "r_d = 147.28016210646237 Mpc\n",
      "H_0 = 67.24510794134821 km/s/Mpc\n"
     ]
    }
   ],
   "source": [
    "cosmo = compressed_cmb.get_fiducial_cosmology()\n",
    "# get sound horizon in Mpc units\n",
    "rd = camb_cosmo.r_d_Mpc(cosmo)\n",
    "print(f'r_d = {rd} Mpc')\n",
    "H0 = cosmo['pars'].H0\n",
    "print(f'H_0 = {H0} km/s/Mpc')"
   ]
  },
  {
   "cell_type": "code",
   "execution_count": 4,
   "id": "262d08f0-fc64-4cfe-8444-a573a8f2a475",
   "metadata": {},
   "outputs": [],
   "source": [
    "# specify folder to write BAO measurements\n",
    "data_path = Path(cosmo_dir) / 'data'\n",
    "desi_path = data_path / 'desi-y5'\n",
    "desi_path.mkdir(parents=True, exist_ok=True)"
   ]
  },
  {
   "cell_type": "code",
   "execution_count": 5,
   "id": "8b30448f-1991-4418-8246-4d823d70b708",
   "metadata": {},
   "outputs": [],
   "source": [
    "# collect DESI tracers\n",
    "tracers={'BGS': desi_bao.get_BGS_data(), \n",
    "         'LRG': desi_bao.get_LRG_data(), \n",
    "         'ELG': desi_bao.get_ELG_data(),\n",
    "         'QSO': desi_bao.get_QSO_data(), \n",
    "         'LYA': desi_bao.get_LYA_data()\n",
    "}"
   ]
  },
  {
   "cell_type": "code",
   "execution_count": 6,
   "id": "4d20c4f7-a7ee-4b82-bd26-82ee8963d07f",
   "metadata": {},
   "outputs": [],
   "source": [
    "# write BAO files for each tracer separately\n",
    "for label, tracer in tracers.items():\n",
    "    desi_bao.write_BAO_files(tracer, label=label, cosmo=cosmo, output_path=desi_path)"
   ]
  },
  {
   "cell_type": "code",
   "execution_count": null,
   "id": "25ed591f-7f8f-476d-a7b0-f0154905bb73",
   "metadata": {},
   "outputs": [],
   "source": []
  }
 ],
 "metadata": {
  "kernelspec": {
   "display_name": "cosmodesi-main",
   "language": "python",
   "name": "cosmodesi-main"
  },
  "language_info": {
   "codemirror_mode": {
    "name": "ipython",
    "version": 3
   },
   "file_extension": ".py",
   "mimetype": "text/x-python",
   "name": "python",
   "nbconvert_exporter": "python",
   "pygments_lexer": "ipython3",
   "version": "3.10.13"
  }
 },
 "nbformat": 4,
 "nbformat_minor": 5
}
