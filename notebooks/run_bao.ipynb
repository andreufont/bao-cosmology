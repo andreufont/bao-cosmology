{
 "cells": [
  {
   "cell_type": "markdown",
   "id": "d2f3db9a-f7ee-4594-94aa-2ae75fe359e6",
   "metadata": {},
   "source": [
    "# Run simple BAO fits, using the BAO parameterization"
   ]
  },
  {
   "cell_type": "code",
   "execution_count": 1,
   "id": "8feb5e2b-f32d-4e3f-bf20-c91a959e77e5",
   "metadata": {},
   "outputs": [],
   "source": [
    "import numpy as np\n",
    "import sys\n",
    "from pathlib import Path\n",
    "\n",
    "# add local utils module\n",
    "cosmo_dir = '/Users/afont/Desktop/bao-cosmology/'\n",
    "sys.path.insert(1, f'{cosmo_dir}/py/')\n",
    "import write_cobaya_configs as write"
   ]
  },
  {
   "cell_type": "code",
   "execution_count": 2,
   "id": "51694689-6f62-4d8a-9bec-da2412bd4307",
   "metadata": {},
   "outputs": [
    {
     "name": "stdout",
     "output_type": "stream",
     "text": [
      "/Users/afont/Desktop/bao-cosmology/data/desi-y5\n",
      "/Users/afont/Desktop/bao-cosmology/data/mock_bao\n"
     ]
    }
   ],
   "source": [
    "# set configuration options for these runs\n",
    "cosmo_path = Path(cosmo_dir)\n",
    "\n",
    "# forecasted DESI measurements\n",
    "desi_path = cosmo_path / 'data/desi-y5'\n",
    "desi_labels = ['BGS', 'LRG', 'ELG', 'QSO', 'LYA']\n",
    "print(desi_path)\n",
    "\n",
    "# mock BAO measurements\n",
    "mock_path = cosmo_path / 'data/mock_bao'\n",
    "mock_labels = ['mock_z0.001', 'mock_z10.0_ap', 'mock_cmb_bao']\n",
    "print(mock_path)\n",
    "\n",
    "# store chains here\n",
    "runs_path = cosmo_path / 'runs'"
   ]
  },
  {
   "cell_type": "code",
   "execution_count": 3,
   "id": "39ad2782-c3b1-4975-8c06-a8770d3e0eaf",
   "metadata": {},
   "outputs": [
    {
     "name": "stdout",
     "output_type": "stream",
     "text": [
      "wrote cobaya config file /Users/afont/Desktop/bao-cosmology/runs/bao/lcdm/ELG/cobaya_config.yaml\n",
      "/Users/afont/Desktop/bao-cosmology/runs/bao/lcdm/ELG/cobaya_config.yaml\n",
      "[output] Output to be read-from/written-into folder '/Users/afont/Desktop/bao-cosmology/runs/bao/lcdm/ELG', with prefix 'chain'\n",
      "[output] Found existing info files with the requested output prefix: '/Users/afont/Desktop/bao-cosmology/runs/bao/lcdm/ELG/chain'\n",
      "[output] Let's try to resume/load.\n",
      "[output] Found an old sample. Resuming.\n",
      "[camb] `camb` module loaded successfully from /Users/afont/Codes/cobaya-packages/code/CAMB/camb\n",
      "[elg] Initialized.\n",
      "[mcmc] Resuming from previous sample!\n",
      "[samplecollection] Loaded 17080 sample points from '/Users/afont/Desktop/bao-cosmology/runs/bao/lcdm/ELG/chain.1.txt'\n",
      "[mcmc] Initial point: hrdrag:98.74867, omm:0.3242712\n",
      "[mcmc] *WARNING* Parameter blocking manually/previously fixed: speeds will not be measured.\n",
      "[mcmc] Oversampling with factors:\n",
      "[mcmc] * 1 : ['omm']\n",
      "[mcmc] * 2 : ['hrdrag']\n",
      "[mcmc] Covariance matrix from previous sample.\n",
      "[mcmc] Sampling!\n",
      "[mcmc] Sampling complete after 17080 accepted steps.\n"
     ]
    }
   ],
   "source": [
    "config_file = write.write_single_bao_config(model='lcdm', label='ELG',\n",
    "                                            data_path=desi_path, runs_path=runs_path)\n",
    "print(config_file)\n",
    "#command = write.send_cobaya_job(config_file, debug=True, submit=False)\n",
    "#print(command)\n",
    "updated_info, sampler = write.run_cobaya(config_file, resume=True)"
   ]
  },
  {
   "cell_type": "code",
   "execution_count": 4,
   "id": "d11d8b07-b9e1-44ac-97f8-6f1c463d1a2c",
   "metadata": {},
   "outputs": [
    {
     "name": "stdout",
     "output_type": "stream",
     "text": [
      "wrote cobaya config file /Users/afont/Desktop/bao-cosmology/runs/bao/lcdm/desi-y5/cobaya_config.yaml\n",
      "/Users/afont/Desktop/bao-cosmology/runs/bao/lcdm/desi-y5/cobaya_config.yaml\n",
      "[output] Output to be read-from/written-into folder '/Users/afont/Desktop/bao-cosmology/runs/bao/lcdm/desi-y5', with prefix 'chain'\n",
      "[output] Found existing info files with the requested output prefix: '/Users/afont/Desktop/bao-cosmology/runs/bao/lcdm/desi-y5/chain'\n",
      "[output] Let's try to resume/load.\n",
      "[output] Found an old sample. Resuming.\n",
      "[camb] `camb` module loaded successfully from /Users/afont/Codes/cobaya-packages/code/CAMB/camb\n",
      "[bgs] Initialized.\n",
      "[lrg] Initialized.\n",
      "[elg] Initialized.\n",
      "[qso] Initialized.\n",
      "[lya] Initialized.\n",
      "[mcmc] Resuming from previous sample!\n",
      "[samplecollection] Loaded 12720 sample points from '/Users/afont/Desktop/bao-cosmology/runs/bao/lcdm/desi-y5/chain.1.txt'\n",
      "[mcmc] Initial point: hrdrag:99.21346, omm:0.3154867\n",
      "[mcmc] *WARNING* Parameter blocking manually/previously fixed: speeds will not be measured.\n",
      "[mcmc] Covariance matrix from previous sample.\n",
      "[mcmc] Sampling!\n",
      "[mcmc] Sampling complete after 12720 accepted steps.\n"
     ]
    }
   ],
   "source": [
    "config_file = write.write_multiple_bao_config(model='lcdm', run_label='desi-y5',\n",
    "                                              bao_labels=desi_labels, data_path=desi_path,\n",
    "                                              runs_path=runs_path)\n",
    "print(config_file)\n",
    "updated_info, sampler = write.run_cobaya(config_file, resume=True)"
   ]
  },
  {
   "cell_type": "code",
   "execution_count": null,
   "id": "0874e410-af5f-4aa2-a8ef-9471e097b3e1",
   "metadata": {},
   "outputs": [],
   "source": []
  }
 ],
 "metadata": {
  "kernelspec": {
   "display_name": "cosmo",
   "language": "python",
   "name": "cosmo"
  },
  "language_info": {
   "codemirror_mode": {
    "name": "ipython",
    "version": 3
   },
   "file_extension": ".py",
   "mimetype": "text/x-python",
   "name": "python",
   "nbconvert_exporter": "python",
   "pygments_lexer": "ipython3",
   "version": "3.13.5"
  }
 },
 "nbformat": 4,
 "nbformat_minor": 5
}
