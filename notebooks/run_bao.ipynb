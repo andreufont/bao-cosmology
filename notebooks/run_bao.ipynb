{
 "cells": [
  {
   "cell_type": "markdown",
   "id": "d2f3db9a-f7ee-4594-94aa-2ae75fe359e6",
   "metadata": {},
   "source": [
    "# Run simple BAO fits, using the BAO parameterization"
   ]
  },
  {
   "cell_type": "code",
   "execution_count": 1,
   "id": "8feb5e2b-f32d-4e3f-bf20-c91a959e77e5",
   "metadata": {},
   "outputs": [],
   "source": [
    "import numpy as np\n",
    "import sys\n",
    "from pathlib import Path"
   ]
  },
  {
   "cell_type": "code",
   "execution_count": 2,
   "id": "58a33ce6-6110-4991-be3b-f6512e6c9c76",
   "metadata": {},
   "outputs": [],
   "source": [
    "# figure out configuration for laptop vs NERSC\n",
    "laptop=False\n",
    "if laptop:\n",
    "    cosmo_dir = '/Users/afont/Desktop/bao-cosmology'\n",
    "else:\n",
    "    cosmo_dir = '/global/cfs/cdirs/desi/users/font/bao-cosmology'\n",
    "sys.path.insert(1, f'{cosmo_dir}/py/')\n",
    "import write_cobaya_configs as write"
   ]
  },
  {
   "cell_type": "code",
   "execution_count": 3,
   "id": "51694689-6f62-4d8a-9bec-da2412bd4307",
   "metadata": {},
   "outputs": [
    {
     "name": "stdout",
     "output_type": "stream",
     "text": [
      "/global/cfs/cdirs/desi/users/font/bao-cosmology/data/desi-y5\n",
      "/global/cfs/cdirs/desi/users/font/bao-cosmology/data/mock_bao\n"
     ]
    }
   ],
   "source": [
    "# set configuration options for these runs\n",
    "cosmo_path = Path(cosmo_dir)\n",
    "\n",
    "# forecasted DESI measurements\n",
    "desi_path = cosmo_path / 'data/desi-y5'\n",
    "desi_labels = ['BGS', 'LRG', 'ELG', 'QSO', 'LYA']\n",
    "print(desi_path)\n",
    "\n",
    "# mock BAO measurements\n",
    "mock_path = cosmo_path / 'data/mock_bao'\n",
    "mock_labels = ['mock_z0.001_bao', 'mock_z10.0_ap', 'mock_cmb_bao']\n",
    "print(mock_path)\n",
    "\n",
    "# store chains here\n",
    "runs_path = cosmo_path / 'runs'"
   ]
  },
  {
   "cell_type": "code",
   "execution_count": 4,
   "id": "69b3ebbb-4ddb-437c-becc-17491608d03f",
   "metadata": {},
   "outputs": [],
   "source": [
    "if laptop:\n",
    "    model='lcdm'\n",
    "    config_file = write.write_multiple_bao_config(model=model, run_label='desi-y5',\n",
    "                                                  bao_labels=desi_labels, data_path=desi_path,\n",
    "                                                  runs_path=runs_path)\n",
    "    print(config_file)\n",
    "    updated_info, sampler = write.run_cobaya(config_file, resume=True)"
   ]
  },
  {
   "cell_type": "code",
   "execution_count": 5,
   "id": "60a76005-b3af-4c3c-b43f-067426c5f990",
   "metadata": {},
   "outputs": [
    {
     "name": "stdout",
     "output_type": "stream",
     "text": [
      "wrote cobaya config file /global/cfs/cdirs/desicollab/users/font/bao-cosmology/runs/bao/lcdm/desi-y5/cobaya_config.yaml\n",
      "Job parameters: 1 runs of 4 chains on 1 nodes, each node with 4 MPI chains, each chain using 64 OpenMP cores (256 cores per node)\n",
      "wrote cobaya config file /global/cfs/cdirs/desicollab/users/font/bao-cosmology/runs/bao/olcdm/desi-y5/cobaya_config.yaml\n",
      "Job parameters: 1 runs of 4 chains on 1 nodes, each node with 4 MPI chains, each chain using 64 OpenMP cores (256 cores per node)\n",
      "wrote cobaya config file /global/cfs/cdirs/desicollab/users/font/bao-cosmology/runs/bao/nulcdm/desi-y5/cobaya_config.yaml\n",
      "Job parameters: 1 runs of 4 chains on 1 nodes, each node with 4 MPI chains, each chain using 64 OpenMP cores (256 cores per node)\n",
      "wrote cobaya config file /global/cfs/cdirs/desicollab/users/font/bao-cosmology/runs/bao/w0wa/desi-y5/cobaya_config.yaml\n",
      "Job parameters: 1 runs of 4 chains on 1 nodes, each node with 4 MPI chains, each chain using 64 OpenMP cores (256 cores per node)\n"
     ]
    }
   ],
   "source": [
    "for model in ['lcdm', 'olcdm', 'nulcdm', 'w0wa']:\n",
    "    config_file = write.write_multiple_bao_config(model=model, run_label='desi-y5',\n",
    "                                                  bao_labels=desi_labels, data_path=desi_path,\n",
    "                                                  runs_path=runs_path)\n",
    "    command = write.send_cobaya_job(config_file, debug=True, submit=True)"
   ]
  },
  {
   "cell_type": "code",
   "execution_count": 7,
   "id": "575b0981-5d6b-46ec-91b1-3a77e1f64c9d",
   "metadata": {},
   "outputs": [
    {
     "name": "stdout",
     "output_type": "stream",
     "text": [
      "wrote cobaya config file /global/cfs/cdirs/desicollab/users/font/bao-cosmology/runs/bao/nulcdm/BGS/cobaya_config.yaml\n",
      "Job parameters: 1 runs of 4 chains on 1 nodes, each node with 4 MPI chains, each chain using 64 OpenMP cores (256 cores per node)\n",
      "cd /global/cfs/cdirs/desicollab/users/font/bao-cosmology/runs/bao/nulcdm/BGS\n",
      "cobaya-run-job /global/cfs/cdirs/desicollab/users/font/bao-cosmology/runs/bao/nulcdm/BGS/cobaya_config.yaml --nodes 1 --job-template /global/cfs/cdirs/desicollab/users/font/bao-cosmology/scripts/default_cobaya_batch_script.sh --queue debug --walltime 00:30:00\n"
     ]
    }
   ],
   "source": [
    "for label in desi_labels:\n",
    "    config_file = write.write_single_bao_config(model='w0wa', label=label,\n",
    "                                            data_path=desi_path, runs_path=runs_path)\n",
    "    if laptop:\n",
    "        updated_info, sampler = write.run_cobaya(config_file, resume=True)\n",
    "    else:\n",
    "        command = write.send_cobaya_job(config_file, debug=True, submit=True)\n",
    "        print(command)"
   ]
  },
  {
   "cell_type": "code",
   "execution_count": 13,
   "id": "8f7fbf06-1586-4876-9d20-5d36146b5eef",
   "metadata": {},
   "outputs": [
    {
     "name": "stdout",
     "output_type": "stream",
     "text": [
      "wrote cobaya config file /global/cfs/cdirs/desicollab/users/font/bao-cosmology/runs/bao/lcdm/mock_z10.0_bao/cobaya_config.yaml\n",
      "Job parameters: 1 runs of 4 chains on 1 nodes, each node with 4 MPI chains, each chain using 64 OpenMP cores (256 cores per node)\n",
      "cd /global/cfs/cdirs/desicollab/users/font/bao-cosmology/runs/bao/lcdm/mock_z10.0_bao\n",
      "cobaya-run-job /global/cfs/cdirs/desicollab/users/font/bao-cosmology/runs/bao/lcdm/mock_z10.0_bao/cobaya_config.yaml --nodes 1 --job-template /global/cfs/cdirs/desicollab/users/font/bao-cosmology/scripts/default_cobaya_batch_script.sh --queue debug --walltime 00:30:00\n",
      "wrote cobaya config file /global/cfs/cdirs/desicollab/users/font/bao-cosmology/runs/bao/lcdm/mock_z10.0_at/cobaya_config.yaml\n",
      "Job parameters: 1 runs of 4 chains on 1 nodes, each node with 4 MPI chains, each chain using 64 OpenMP cores (256 cores per node)\n",
      "cd /global/cfs/cdirs/desicollab/users/font/bao-cosmology/runs/bao/lcdm/mock_z10.0_at\n",
      "cobaya-run-job /global/cfs/cdirs/desicollab/users/font/bao-cosmology/runs/bao/lcdm/mock_z10.0_at/cobaya_config.yaml --nodes 1 --job-template /global/cfs/cdirs/desicollab/users/font/bao-cosmology/scripts/default_cobaya_batch_script.sh --queue debug --walltime 00:30:00\n",
      "wrote cobaya config file /global/cfs/cdirs/desicollab/users/font/bao-cosmology/runs/bao/lcdm/mock_z0.001_at/cobaya_config.yaml\n",
      "Job parameters: 1 runs of 4 chains on 1 nodes, each node with 4 MPI chains, each chain using 64 OpenMP cores (256 cores per node)\n",
      "cd /global/cfs/cdirs/desicollab/users/font/bao-cosmology/runs/bao/lcdm/mock_z0.001_at\n",
      "cobaya-run-job /global/cfs/cdirs/desicollab/users/font/bao-cosmology/runs/bao/lcdm/mock_z0.001_at/cobaya_config.yaml --nodes 1 --job-template /global/cfs/cdirs/desicollab/users/font/bao-cosmology/scripts/default_cobaya_batch_script.sh --queue debug --walltime 00:30:00\n",
      "wrote cobaya config file /global/cfs/cdirs/desicollab/users/font/bao-cosmology/runs/bao/lcdm/mock_z0.001_ap/cobaya_config.yaml\n",
      "Job parameters: 1 runs of 4 chains on 1 nodes, each node with 4 MPI chains, each chain using 64 OpenMP cores (256 cores per node)\n",
      "cd /global/cfs/cdirs/desicollab/users/font/bao-cosmology/runs/bao/lcdm/mock_z0.001_ap\n",
      "cobaya-run-job /global/cfs/cdirs/desicollab/users/font/bao-cosmology/runs/bao/lcdm/mock_z0.001_ap/cobaya_config.yaml --nodes 1 --job-template /global/cfs/cdirs/desicollab/users/font/bao-cosmology/scripts/default_cobaya_batch_script.sh --queue debug --walltime 00:30:00\n"
     ]
    }
   ],
   "source": [
    "for label in ['mock_z10.0_bao', 'mock_z10.0_at', 'mock_z0.001_at', 'mock_z0.001_ap']:\n",
    "    config_file = write.write_single_bao_config(model='lcdm', label=label,\n",
    "                                            data_path=mock_path, runs_path=runs_path)\n",
    "    if laptop:\n",
    "        updated_info, sampler = write.run_cobaya(config_file, resume=True)\n",
    "    else:\n",
    "        command = write.send_cobaya_job(config_file, debug=True, submit=True)\n",
    "        print(command)"
   ]
  },
  {
   "cell_type": "code",
   "execution_count": 16,
   "id": "39ad2782-c3b1-4975-8c06-a8770d3e0eaf",
   "metadata": {},
   "outputs": [
    {
     "name": "stdout",
     "output_type": "stream",
     "text": [
      "wrote cobaya config file /global/cfs/cdirs/desicollab/users/font/bao-cosmology/runs/bao/lcdm/weak_cmb_bao/cobaya_config.yaml\n",
      "Job parameters: 1 runs of 4 chains on 1 nodes, each node with 4 MPI chains, each chain using 64 OpenMP cores (256 cores per node)\n",
      "cd /global/cfs/cdirs/desicollab/users/font/bao-cosmology/runs/bao/lcdm/weak_cmb_bao\n",
      "cobaya-run-job /global/cfs/cdirs/desicollab/users/font/bao-cosmology/runs/bao/lcdm/weak_cmb_bao/cobaya_config.yaml --nodes 1 --job-template /global/cfs/cdirs/desicollab/users/font/bao-cosmology/scripts/default_cobaya_batch_script.sh --queue debug --walltime 00:30:00\n"
     ]
    }
   ],
   "source": [
    "config_file = write.write_single_bao_config(model='lcdm', label='weak_cmb_bao',\n",
    "                                            data_path=mock_path, runs_path=runs_path)\n",
    "if laptop:\n",
    "    updated_info, sampler = write.run_cobaya(config_file, resume=True)\n",
    "else:\n",
    "    command = write.send_cobaya_job(config_file, debug=True, submit=True)\n",
    "    print(command)"
   ]
  },
  {
   "cell_type": "code",
   "execution_count": 12,
   "id": "0874e410-af5f-4aa2-a8ef-9471e097b3e1",
   "metadata": {},
   "outputs": [
    {
     "name": "stdout",
     "output_type": "stream",
     "text": [
      "Job parameters: 1 runs of 4 chains on 1 nodes, each node with 4 MPI chains, each chain using 64 OpenMP cores (256 cores per node)\n"
     ]
    }
   ],
   "source": [
    "config_file = '/global/cfs/cdirs/desicollab/users/font/bao-cosmology/runs/bao/lcdm/mock_cmb_bao/cobaya_config.yaml'\n",
    "command = write.send_cobaya_job(config_file, debug=True, submit=True)"
   ]
  },
  {
   "cell_type": "code",
   "execution_count": null,
   "id": "45083d54-8387-41e3-a677-156c442f0096",
   "metadata": {},
   "outputs": [],
   "source": []
  }
 ],
 "metadata": {
  "kernelspec": {
   "display_name": "cosmodesi-main",
   "language": "python",
   "name": "cosmodesi-main"
  },
  "language_info": {
   "codemirror_mode": {
    "name": "ipython",
    "version": 3
   },
   "file_extension": ".py",
   "mimetype": "text/x-python",
   "name": "python",
   "nbconvert_exporter": "python",
   "pygments_lexer": "ipython3",
   "version": "3.10.13"
  }
 },
 "nbformat": 4,
 "nbformat_minor": 5
}
